{
 "cells": [
  {
   "cell_type": "code",
   "execution_count": 58,
   "metadata": {},
   "outputs": [],
   "source": [
    "from sklearn import linear_model\n",
    "import pandas as pd\n",
    "import GA as GA\n",
    "import numpy as np\n",
    "import statsmodels.api as sm"
   ]
  },
  {
   "cell_type": "markdown",
   "metadata": {},
   "source": [
    "### 1. Graduate admission rate predict\n",
    "Data source: https://www.kaggle.com/datasets/mohansacharya/graduate-admissions/\n",
    "\n",
    "Type of regression: Linear Regression"
   ]
  },
  {
   "cell_type": "code",
   "execution_count": 49,
   "metadata": {},
   "outputs": [],
   "source": [
    "file_path = 'data/Admission_Predict.csv'\n",
    "try:\n",
    "    data = pd.read_csv(file_path)\n",
    "except Exception as e:\n",
    "    print(\"Error loading file with comma as delimiter:\", e)\n",
    "\n",
    "# prepare data\n",
    "del data['Serial No.']\n",
    "data.columns = ['_'.join(i.split(' ')).strip('_') for i in data.columns]\n",
    "\n",
    "target_variable = 'Chance_of_Admit'"
   ]
  },
  {
   "cell_type": "code",
   "execution_count": 50,
   "metadata": {},
   "outputs": [
    {
     "name": "stdout",
     "output_type": "stream",
     "text": [
      "Selected Variables: ['GRE_Score', 'TOEFL_Score', 'LOR', 'CGPA', 'Research']\n",
      "Best Fitness (AIC): -2196.375447155633\n"
     ]
    }
   ],
   "source": [
    "model1 = GA.GeneticAlgorithm(num_generations=1000,\n",
    "                            population_size=500,\n",
    "                            selection_method='tournament',\n",
    "                            mutation_rate=0.02)\n",
    "model1.fit(data, target_variable, FUN=linear_model.LinearRegression)\n",
    "selected_variables, best_fitness = model1.run()\n",
    "\n",
    "print(\"Selected Variables:\", selected_variables)\n",
    "print(\"Best Fitness (AIC):\", best_fitness)"
   ]
  },
  {
   "cell_type": "markdown",
   "metadata": {},
   "source": [
    "### 2. Wine quality\n",
    "Data source: https://archive.ics.uci.edu/dataset/186/wine+quality\n",
    "\n",
    "Type of regression: Linear Regression"
   ]
  },
  {
   "cell_type": "code",
   "execution_count": 51,
   "metadata": {},
   "outputs": [],
   "source": [
    "# Load your data with the appropriate delimiter (e.g., comma)\n",
    "file_path = 'data/winequality-red.csv'\n",
    "try:\n",
    "    data = pd.read_csv(file_path, delimiter=';')\n",
    "except Exception as e:\n",
    "    print(\"Error loading file with comma as delimiter:\", e)\n",
    "\n",
    "target_variable = 'quality'"
   ]
  },
  {
   "cell_type": "code",
   "execution_count": 52,
   "metadata": {},
   "outputs": [
    {
     "name": "stdout",
     "output_type": "stream",
     "text": [
      "Selected Variables: ['volatile acidity', 'chlorides', 'free sulfur dioxide', 'total sulfur dioxide', 'pH', 'sulphates', 'alcohol']\n",
      "Best Fitness (AIC): -1380.7885490606827\n"
     ]
    }
   ],
   "source": [
    "model2 = GA.GeneticAlgorithm(num_generations=1000,\n",
    "                            population_size=500,\n",
    "                            selection_method='tournament',\n",
    "                            mutation_rate=0.02)\n",
    "model2.fit(data, target_variable, FUN=linear_model.LinearRegression)\n",
    "selected_variables, best_fitness = model2.run()\n",
    "\n",
    "print(\"Selected Variables:\", selected_variables)\n",
    "print(\"Best Fitness (AIC):\", best_fitness)"
   ]
  },
  {
   "cell_type": "markdown",
   "metadata": {},
   "source": [
    "### 3. Date Fruit Datasets\n",
    "Data source: https://www.muratkoklu.com/datasets/\n",
    "\n",
    "Type of regression: Logistic Regression\n"
   ]
  },
  {
   "cell_type": "code",
   "execution_count": 59,
   "metadata": {},
   "outputs": [],
   "source": [
    "from sklearn.preprocessing import LabelEncoder\n",
    "from sklearn.preprocessing import StandardScaler"
   ]
  },
  {
   "cell_type": "code",
   "execution_count": 60,
   "metadata": {},
   "outputs": [],
   "source": [
    "file_path = 'data/Date_Fruit_Datasets.xlsx'\n",
    "try:\n",
    "    data = pd.read_excel(file_path)\n",
    "except Exception as e:\n",
    "    print(\"Error loading file with comma as delimiter:\", e)\n",
    "\n",
    "scaler = StandardScaler()\n",
    "label_encoder = LabelEncoder()\n",
    "target_variable = 'Class'\n",
    "data[target_variable] = label_encoder.fit_transform(data[target_variable])\n",
    "\n",
    "data[data.columns[:-1]] = scaler.fit_transform(data[data.columns[:-1]])"
   ]
  },
  {
   "cell_type": "code",
   "execution_count": 64,
   "metadata": {},
   "outputs": [
    {
     "name": "stdout",
     "output_type": "stream",
     "text": [
      "Selected Variables: ['PERIMETER', 'MAJOR_AXIS', 'MINOR_AXIS', 'ECCENTRICITY', 'EQDIASQ', 'SOLIDITY', 'CONVEX_AREA', 'ASPECT_RATIO', 'ROUNDNESS', 'COMPACTNESS', 'SHAPEFACTOR_1', 'SHAPEFACTOR_2', 'SHAPEFACTOR_3', 'SHAPEFACTOR_4', 'MeanRR', 'MeanRG', 'MeanRB', 'StdDevRR', 'StdDevRG', 'StdDevRB', 'SkewRG', 'SkewRB', 'KurtosisRR', 'KurtosisRB', 'EntropyRR', 'EntropyRG', 'EntropyRB', 'ALLdaub4RR', 'ALLdaub4RB']\n",
      "Best Fitness (AIC): 343.1428550807006\n"
     ]
    }
   ],
   "source": [
    "model3 = GA.GeneticAlgorithm(num_generations=1000,\n",
    "                            population_size=500,\n",
    "                            selection_method='tournament',\n",
    "                            mutation_rate=0.02)\n",
    "model3.fit(data, target_variable, FUN=linear_model.LogisticRegression(max_iter=1000))\n",
    "selected_variables, best_fitness = model3.run()\n",
    "\n",
    "print(\"Selected Variables:\", selected_variables)\n",
    "print(\"Best Fitness (AIC):\", best_fitness)"
   ]
  },
  {
   "cell_type": "markdown",
   "metadata": {},
   "source": [
    "### 4. Simulation"
   ]
  },
  {
   "cell_type": "code",
   "execution_count": 53,
   "metadata": {},
   "outputs": [],
   "source": [
    "num_points = 500\n",
    "num_features = 20\n",
    "X = pd.DataFrame(np.random.rand(num_points, num_features))\n",
    "\n",
    "true_coefficients = np.random.uniform(-5,5,size = num_features)\n",
    "true_coefficients[10:] = np.zeros(10)\n",
    "noise = np.random.normal(0, 0.5, size=(num_points, ))\n",
    "\n",
    "y = X @ true_coefficients + noise\n",
    "\n",
    "X['y'] = y\n",
    "\n",
    "target_variable = 'y'"
   ]
  },
  {
   "cell_type": "code",
   "execution_count": 54,
   "metadata": {},
   "outputs": [
    {
     "name": "stdout",
     "output_type": "stream",
     "text": [
      "GA(Linear Regression): Selected Variables: [0, 1, 2, 3, 4, 5, 6, 7, 8, 9, 10, 19]\n",
      "Best Fitness (AIC): -734.6262024158393\n"
     ]
    }
   ],
   "source": [
    "model4 = GA.GeneticAlgorithm(num_generations=2000,\n",
    "                            population_size=2000,\n",
    "                            selection_method='tournament',\n",
    "                            mutation_rate=0.03)\n",
    "model4.fit(X, target_variable, FUN=linear_model.LinearRegression)\n",
    "selected_variables, best_fitness = model4.run()\n",
    "\n",
    "print(\"GA(Linear Regression): Selected Variables:\", selected_variables)\n",
    "print(\"Best Fitness (AIC):\", best_fitness)"
   ]
  }
 ],
 "metadata": {
  "kernelspec": {
   "display_name": "stat243",
   "language": "python",
   "name": "python3"
  },
  "language_info": {
   "codemirror_mode": {
    "name": "ipython",
    "version": 3
   },
   "file_extension": ".py",
   "mimetype": "text/x-python",
   "name": "python",
   "nbconvert_exporter": "python",
   "pygments_lexer": "ipython3",
   "version": "3.11.4"
  }
 },
 "nbformat": 4,
 "nbformat_minor": 2
}
