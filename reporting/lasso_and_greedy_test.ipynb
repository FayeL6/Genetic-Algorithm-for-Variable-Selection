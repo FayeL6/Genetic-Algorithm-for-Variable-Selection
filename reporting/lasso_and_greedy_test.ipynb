{
 "cells": [
  {
   "cell_type": "code",
   "execution_count": 185,
   "metadata": {},
   "outputs": [],
   "source": [
    "from sklearn.linear_model import lasso_path\n",
    "from sklearn.linear_model import LinearRegression\n",
    "import pandas as pd\n",
    "import GA.GA as GA\n",
    "import numpy as np"
   ]
  },
  {
   "cell_type": "code",
   "execution_count": 186,
   "metadata": {},
   "outputs": [],
   "source": [
    "# Load your data with the appropriate delimiter (e.g., comma)\n",
    "file_path = 'data/baseball.dat'\n",
    "try:\n",
    "    data = pd.read_csv(file_path, delim_whitespace=True)\n",
    "except Exception as e:\n",
    "    print(\"Error loading file with comma as delimiter:\", e)\n",
    "\n",
    "target_variable = 'salary'"
   ]
  },
  {
   "cell_type": "code",
   "execution_count": 187,
   "metadata": {},
   "outputs": [],
   "source": [
    "variables = [col for col in data.columns if col != target_variable]\n",
    "X = data[variables]\n",
    "y = data[target_variable]\n",
    "\n",
    "# Normalize data due to using LASSO\n",
    "X_norm = X / X.std(axis=0)\n",
    "y_norm = y / y.std(axis=0)"
   ]
  },
  {
   "cell_type": "code",
   "execution_count": 188,
   "metadata": {},
   "outputs": [
    {
     "name": "stdout",
     "output_type": "stream",
     "text": [
      "Computing regularization path using the lasso...\n"
     ]
    }
   ],
   "source": [
    "eps = 0.001\n",
    "print(\"Computing regularization path using the lasso...\")\n",
    "alphas_lasso, coefs_lasso, _ = lasso_path(X_norm, y_norm, eps=eps)"
   ]
  },
  {
   "cell_type": "code",
   "execution_count": 233,
   "metadata": {},
   "outputs": [
    {
     "name": "stdout",
     "output_type": "stream",
     "text": [
      "Selected Variables for the Model with the best AIC:\n",
      "['obp' 'runs' 'homeruns' 'rbis' 'sos' 'freeagent' 'arbitration' 'hrsperso'\n",
      " 'soserrors' 'sbsruns']\n",
      "10\n",
      "\n",
      "Coefficients:\n",
      "[-5.10482056e+02  6.84859621e+00  1.72649442e+00 -1.82908407e+01\n",
      "  2.75154345e+01  1.51104214e+01  7.79161502e+00 -1.20940203e+01\n",
      " -9.31388156e+00  1.27349272e+03  8.30232082e+02 -3.50884397e+01\n",
      " -3.29297428e+02 -2.44716855e+01 -1.04801270e-01  3.38279426e+01\n",
      "  9.30128817e-03]\n",
      "\n",
      "AIC for the above model:\n",
      "4423.143405869015\n"
     ]
    }
   ],
   "source": [
    "# Note: now that we found variables selection with LASSO, the linear regression runs on the unormalized data to give accurate residuals.\n",
    "\n",
    "# Find the linear reg model with the best AIC score:\n",
    "lin_model_sel_var_AIC = np.zeros(coefs_lasso.shape[1])\n",
    "\n",
    "for i in range(coefs_lasso.shape[1]):\n",
    "    selected_variables = np.array(variable_list)[coefs_lasso[:,i]!=0]\n",
    "    \n",
    "    # Case: more than zero variables are selected\n",
    "    if(len(selected_variables) != 0):\n",
    "        lin_model_sel_var = LinearRegression().fit(X[selected_variables], y)\n",
    "        \n",
    "        prediction = lin_model_sel_var.predict(X[selected_variables])\n",
    "        num_of_variables = len(selected_variables)\n",
    "        lin_model_sel_var_AIC[i] = GA.AIC(y, prediction, num_of_variables)\n",
    "    else:\n",
    "        lin_model_sel_var_AIC[i] = np.inf\n",
    "\n",
    "# Run the best model config again:\n",
    "model_no_best_AIC = np.argmin(lin_model_sel_var_AIC)\n",
    "selected_variables_best_AIC = np.array(variable_list)[coefs_lasso[:,model_no_best_AIC]!=0]\n",
    "lin_model_sel_var_best_AIC = LinearRegression().fit(X[selected_variables], y)\n",
    "\n",
    "print('Selected Variables for the Model with the best AIC:')\n",
    "print(selected_variables_best_AIC)\n",
    "print(len(selected_variables_best_AIC))\n",
    "\n",
    "print('\\nCoefficients:')\n",
    "print(lin_model_sel_var_best_AIC.coef_)\n",
    "\n",
    "print('\\nAIC for the above model:')\n",
    "print(np.min(lin_model_sel_var_AIC))\n"
   ]
  },
  {
   "cell_type": "code",
   "execution_count": 234,
   "metadata": {},
   "outputs": [
    {
     "name": "stdout",
     "output_type": "stream",
     "text": [
      "Selected Variables for the Greedy Model with the best AIC:\n",
      "['runs', 'hits', 'rbis', 'walks', 'sos', 'sbs', 'freeagent', 'arbitration', 'hitsperso', 'hrsperso', 'rbisperso', 'walksperso', 'hrspererror', 'soserrors', 'sbsobp']\n",
      "15\n",
      "\n",
      "AIC for the best greedy model:\n",
      "4418.290953764176\n"
     ]
    }
   ],
   "source": [
    "# Extra Effort: we use a greedy algorithm starting with all factors and iteratively kicking out the factors with the smallest p-value.\n",
    "\n",
    "import statsmodels.api as sm\n",
    "\n",
    "X_new = sm.add_constant(X)\n",
    "greedy_aic = np.zeros(X_new.shape[1]-1)\n",
    "greedy_var_to_keep = []\n",
    "\n",
    "for i in range(X_new.shape[1]-1):\n",
    "    fitted_model = sm.OLS(y, X_new).fit()\n",
    "\n",
    "    # Find highest p_val\n",
    "    var_max_pval = np.argmax(fitted_model.pvalues)\n",
    "    column_names_list = X_new.columns.tolist()\n",
    "    greedy_var_to_keep.append(column_names_list)\n",
    "\n",
    "    # Get Model AIC score\n",
    "    greedy_aic[i] = GA.AIC(y,\n",
    "                           fitted_model.predict(X_new),\n",
    "                           len(column_names_list))\n",
    "\n",
    "    # Optinize greedily: kick out variables with the highest p_val\n",
    "    X_new = X_new.drop(column_names_list[var_max_pval], axis=1)\n",
    "\n",
    "print('Selected Variables for the Greedy Model with the best AIC:')\n",
    "print(greedy_var_to_keep[np.argmin(greedy_aic)])\n",
    "print(len(greedy_var_to_keep[np.argmin(greedy_aic)]))\n",
    "\n",
    "print('\\nAIC for the best greedy model:')\n",
    "print(np.min(greedy_aic))\n"
   ]
  }
 ],
 "metadata": {
  "kernelspec": {
   "display_name": "stat243",
   "language": "python",
   "name": "python3"
  },
  "language_info": {
   "codemirror_mode": {
    "name": "ipython",
    "version": 3
   },
   "file_extension": ".py",
   "mimetype": "text/x-python",
   "name": "python",
   "nbconvert_exporter": "python",
   "pygments_lexer": "ipython3",
   "version": "3.9.6"
  }
 },
 "nbformat": 4,
 "nbformat_minor": 2
}
